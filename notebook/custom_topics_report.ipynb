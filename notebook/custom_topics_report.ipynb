{
 "cells": [
  {
   "cell_type": "code",
   "execution_count": 1,
   "metadata": {},
   "outputs": [],
   "source": [
    "import os\n",
    "import re\n",
    "import json\n",
    "import pickle\n",
    "import datetime\n",
    "import pandas as pd\n",
    "from pprint import pprint\n",
    "import matplotlib.pyplot as plt\n",
    "import collections, functools, operator\n",
    "\n",
    "from fpdf import FPDF\n",
    "\n",
    "import warnings\n",
    "warnings.filterwarnings(\"ignore\") "
   ]
  },
  {
   "cell_type": "markdown",
   "metadata": {},
   "source": [
    "Things to show:\n",
    "1. custom topic name\n",
    "2. custom topic id in sql database\n",
    "3. status\n",
    "4. total score\n",
    "5. start date\n",
    "6. end date\n",
    "7. table of keywords\n",
    "\n",
    "Stats:\n",
    "1. total number of podcasts\n",
    "2. total score describe\n",
    "3. count of score groups into 10 bins\n",
    "   \n",
    "   <br>\n",
    "4. score by keywords\n",
    "5. keywords table with count\n",
    "6. keywords bar chart with count\n",
    "7. top 5 keywords\n",
    "8. bottom five keywords\n",
    "   \n",
    "   <br>\n",
    "9.  Count by days of week\n",
    "10. Count by time of hour "
   ]
  },
  {
   "cell_type": "code",
   "execution_count": 2,
   "metadata": {},
   "outputs": [],
   "source": [
    "PATH_CUSTOM_TOPICS_REPORT = '../custom_topics/csv/'"
   ]
  },
  {
   "cell_type": "code",
   "execution_count": null,
   "metadata": {},
   "outputs": [],
   "source": [
    "def get_custom_topic_podcasts(custom_topic_id):\n",
    "    conn = pyodbc.connect(self.conn_dmp)\n",
    "    query = \"\"\"SELECT PodcastId, TotalScore, KeywordMatch, CreatedDate\n",
    "               FROM dbo.CustomTopicsPodcasts\n",
    "               WHERE CustomTopicId = {}\n",
    "            \"\"\".format(\n",
    "                custom_topic_id\n",
    "            )\n",
    "    cursor = conn.cursor()\n",
    "    cursor.execute(query)\n",
    "    df = pd.DataFrame(cursor.fetchall(), columns = ['podcast_id', 'total_score', 'keyword_match', 'created_date'])\n",
    "    conn.commit()\n",
    "    cursor.close()\n",
    "    return df"
   ]
  },
  {
   "cell_type": "code",
   "execution_count": 3,
   "metadata": {},
   "outputs": [],
   "source": [
    "custom_topic_info = {\n",
    "    'custom_topic': 'super bowl 2024', \n",
    "    'keyword': [('san francisco 49ers', 100), ('kansas city chiefs', 100), ('49ers', 100), ('niners', 70), ('cheifs', 70), ('super bowl 2024', 100), ('super bowl', 50), ('football', 50), ('nfl', 50), ('national football league', 50), ('allegiant stadium', 50), ('allegiant', 50), ('las vegas', 10), ('vegas', 10), ('nevada', 10), ('usher', 100), ('half time show', 100), ('offence', 20), ('defence', 20), ('offensive line', 20), ('defensive line', 20), ('linebacker', 20), ('devensive back', 20), ('receivers', 20), ('center', 10), ('offensive guard', 20), ('offensive tackle', 20), ('quaterback', 20), ('running back', 20), ('wide receiver', 20), ('tight end', 20), ('defensive tackle', 20), ('nose tackle', 20), ('defensive end', 20), ('middle linebacker', 20), ('outside line backer', 20), ('cornerback', 20), ('safety', 20), ('kicker', 20), ('kickoff', 50), ('kickoff specialist', 20), ('punter', 20), ('holder', 20), ('long snapper', 20), ('kick returner', 20), ('punt returner', 20), ('gunner', 20), ('jammer', 20), ('offensive coordinator', 20), ('defensive coordinator', 20), ('andy reid', 30), ('kyle shanahan', 30), ('matt nagy', 30), ('steve spagnuolo', 30), ('steve wilks', 30), ('brandon allen', 30), ('sam darnold', 30), ('brock purdy', 30), ('jordan mason', 30), ('christian mccaffrey', 30), ('elijah mitchell', 30), ('kyle juszczyk', 30), ('brandon aiyuk', 30), ('ronnie bell', 30), ('chris conley', 30), ('jauan jennings', 30), ('ray-ray mccloud', 30), ('deebo samuel', 30), ('george kittle', 30), ('brayden willis', 30), ('charlie woerner', 30), ('jake brendel', 30), ('colton mckivitz', 30), ('jaylon moore', 30), ('matt pryor', 30), ('trent williams', 30), ('ben bartch', 30), ('spencer burford', 30), ('jon feliciano', 30), ('arik armstead', 30), ('robert beal jr', 30), ('nick bosa', 30), ('austin bryant', 30), ('chase young', 30), ('kevin givens', 30), ('sebastian joseph-day', 30), ('javon kinlaw', 30), ('javon hargrave', 30), ('fred warner', 30), ('oren burks', 30), ('demetrius flannigan-fowles', 30), ('jalen graham', 30), ('dre greenlaw', 30), ('randy gregory', 30), ('dee winters', 30), ('deommodore lenoir', 30), ('darrell luter jr', 30), ('isaiah oliver', 30), ('logan ryan', 30), ('ambry thomas', 30), ('charvarius ward', 30), ('samuel womack', 30), ('george odum', 30), ('jiayir brown', 30), ('tashaun gipson', 30), ('jake moody', 30), ('mitch wishnowsky', 30), ('taybor pepper', 30), ('blaine gabbert', 30), ('patrick mahomes', 30), ('jerrion ealy', 30), ('clyde edwards-helaire', 30), ('isiah pacheco', 30), ('lamical perine', 30), ('mecole hardman', 30), ('richie james', 30), ('rashee rice', 30), ('justyn ross', 30), ('kadarius toney', 30), ('marquez valdes-scantling', 30), ('justin watson', 30), ('blake bell', 30), ('kendall blanton', 30), ('noah gray', 30), ('travis kelce', 30), ('creed humphrey', 30), ('wanya morris', 30), ('lucas niang', 30), ('donovan smith', 30), ('jawaan taylor', 30), ('nick allegretti', 30), ('joe thuney', 30), ('felix anudike-uzomah', 30), ('michael danna', 30), ('neil farrell jr', 30), ('malik herring', 30), ('chris jones', 30), ('george karlaftis', 30), ('charles omenihu', 30), ('bj thompson', 30), ('tershawn wharton', 30), ('danny shelton', 30), ('daniel wise', 30), ('nick bolton', 30), ('leo chenal', 30), ('cole christiasen', 30), ('jack cochrane', 30), ('willie gay jr', 30), ('darius harris', 30), ('drue tranquill', 30), ('ekow boye-doe', 30), ('nic jones', 30), ('trent mcduffie', 30), ('ljarius sneed', 30), ('jaylen watson', 30), ('joshua williams', 30), ('deon bush', 30), ('chamarri conner', 30), ('mike edwards', 30), ('justin reid', 30), ('harrison butker', 30), ('tommy townsend', 30), ('james winchester', 30)], \n",
    "    'id': 15, \n",
    "    'total_score': 300, \n",
    "    'status': True, \n",
    "    'start_date': datetime.datetime(2023, 6, 2, 0, 0), \n",
    "    'end_date': datetime.datetime(2024, 12, 2, 0, 0)\n",
    "}\n"
   ]
  },
  {
   "cell_type": "code",
   "execution_count": 19,
   "metadata": {},
   "outputs": [],
   "source": [
    "pdf = FPDF()\n",
    "pdf.add_page()\n",
    "pdf.set_font('Arial', 'B', 10)\n",
    "pdf.cell(0, 10, 'Custom Topic: {}'.format(custom_topic_info['custom_topic'].title()), ln = 1)\n",
    "pdf.cell(0, 10, 'Custom Topic Id: {}'.format(custom_topic_info['id']), ln = 1)\n",
    "pdf.cell(0, 10, 'Custom Topic Total Score: {}'.format(custom_topic_info['total_score']), ln = 1)\n",
    "pdf.cell(0, 10, 'Custom Topic Status: {}'.format(custom_topic_info['status']), ln = 1)\n",
    "pdf.cell(0, 10, 'Custom Topic Start Date: {}'.format(custom_topic_info['start_date']), ln = 1)\n",
    "pdf.cell(0, 10, 'Custom Topic End Date: {}'.format(custom_topic_info['end_date']), ln = 1)\n",
    "custom_topic_info['keyword'].insert(0, ('Keyword', 'Score'))\n",
    "with pdf.table() as table:\n",
    "    for data_row in custom_topic_info['keyword']:\n",
    "        row = table.row()\n",
    "        for datum in data_row:\n",
    "            row.cell(str(datum).title())\n",
    "pdf.output('output.pdf', 'F')"
   ]
  },
  {
   "cell_type": "code",
   "execution_count": null,
   "metadata": {},
   "outputs": [],
   "source": [
    "class Custom_Topic_Report:\n",
    "    def __init__(self, custom_topic):\n",
    "        self.db = Database(env = 'prd')\n",
    "        # custom_topic_info = self.db.get_all_custom_topic_keywords_custom_topic(custom_topic)\n",
    "        custom_topic_podcasts_df = self.db.get_custom_topic_podcasts(custom_topic_info['id'])\n",
    "    \n",
    "    def df_prep(df):\n",
    "        "
   ]
  },
  {
   "cell_type": "code",
   "execution_count": 26,
   "metadata": {},
   "outputs": [],
   "source": [
    "def df_prep(df, custom_topic_info):\n",
    "    pdf = FPDF()\n",
    "    pdf.add_page()\n",
    "    pdf.set_font('Arial', 'B', 10)\n",
    "    pdf.cell(0, 10, 'Custom Topic: {}'.format(custom_topic_info['custom_topic'].title()), ln = 1)\n",
    "    pdf.cell(0, 10, 'Custom Topic Id: {}'.format(custom_topic_info['id']), ln = 1)\n",
    "    pdf.cell(0, 10, 'Custom Topic Total Score: {}'.format(custom_topic_info['total_score']), ln = 1)\n",
    "    pdf.cell(0, 10, 'Custom Topic Status: {}'.format(custom_topic_info['status']), ln = 1)\n",
    "    pdf.cell(0, 10, 'Custom Topic Start Date: {}'.format(custom_topic_info['start_date']), ln = 1)\n",
    "    pdf.cell(0, 10, 'Custom Topic End Date: {}'.format(custom_topic_info['end_date']), ln = 1)\n",
    "    custom_topic_info['keyword'].insert(0, ('Keyword', 'Individual Score'))\n",
    "    with pdf.table() as table:\n",
    "        for data_row in custom_topic_info['keyword']:\n",
    "            row = table.row()\n",
    "            for datum in data_row:\n",
    "                row.cell(str(datum).title())\n",
    "\n",
    "    pdf.add_page()\n",
    "    total_podcasts = df.shape[0]\n",
    "    pdf.cell(0, 10, 'Total number of Podcasts: {}'.format(total_podcasts), ln = 1)\n",
    "\n",
    "    ts_mean = df['total_score'].mean()\n",
    "    ts_median = df['total_score'].median()\n",
    "    ts_std = df['total_score'].std()\n",
    "    ts_min = df['total_score'].min()\n",
    "    ts_max = df['total_score'].max()\n",
    "    ts_25, ts_50, ts_75 = df['total_score'].describe()[4], df['total_score'].describe()[5], df['total_score'].describe()[6]\n",
    "    pdf.cell(0, 10, 'Total Score Information for Podcasts:', ln = 1)\n",
    "    pdf.cell(0, 10, 'Total Score Mean: {}'.format(ts_mean), ln = 1)\n",
    "    pdf.cell(0, 10, 'Total Score Median: {}'.format(ts_median), ln = 1)\n",
    "    pdf.cell(0, 10, 'Total Score STD: {}'.format(ts_std), ln = 1)\n",
    "    pdf.cell(0, 10, 'Total Score Min: {}'.format(ts_min), ln = 1)\n",
    "    pdf.cell(0, 10, 'Total Score Max: {}'.format(ts_max), ln = 1)\n",
    "    pdf.cell(0, 10, 'Total Score 25th Percentile: {}'.format(ts_25), ln = 1)\n",
    "    pdf.cell(0, 10, 'Total Score 50th Percentile: {}'.format(ts_50), ln = 1)\n",
    "    pdf.cell(0, 10, 'Total Score 75th Percentile: {}'.format(ts_75), ln = 1)\n",
    "    \n",
    "    pdf.add_page()\n",
    "    pdf.cell(0, 10, 'Total Score Spread into 10 Bins:', ln = 1)\n",
    "    out = pd.cut(df['total_score'], bins = 10, include_lowest = True, precision = 0).value_counts(sort = False)\n",
    "    ax = out.plot.bar(rot = 90, color = 'b', figsize = (6,4))\n",
    "    for i, v in out.reset_index().iterrows():\n",
    "        ax.text(i - 0.2, v['count'] + 10, v['count'], color = 'red')\n",
    "    ax.set_title('Podcasts per Score Bin')\n",
    "    ax.set_xlabel('Score Bins')\n",
    "    ax.set_ylabel('Podcast Count')\n",
    "    plt.savefig('bin.svg', format = 'svg')\n",
    "    plt.clf()\n",
    "    pdf.image('bin.svg', w = pdf.epw)\n",
    "\n",
    "    df['keyword_match'] = df['keyword_match'].apply(eval)\n",
    "    keyword_count = dict(functools.reduce(operator.add, map(collections.Counter, df['keyword_match'].tolist())))\n",
    "\n",
    "    pdf.add_page()\n",
    "    top_5 = sorted(keyword_count, key = keyword_count.get, reverse = True)[:5]\n",
    "    top_5 = [i.title() for i in top_5]\n",
    "    last_5 = sorted(keyword_count, key = keyword_count.get, reverse = False)[:5]\n",
    "    last_5 = [i.title() for i in last_5]\n",
    "    pdf.cell(0, 10, 'Top 5 and Bottom 5 Keywords:', ln = 1)\n",
    "    pdf.cell(0, 10, 'Top 5 Keywords: {}'.format(top_5), ln = 1)\n",
    "    pdf.cell(0, 10, 'Bottom 5 Keywords: {}'.format(last_5), ln = 1)\n",
    "\n",
    "    pdf.add_page()\n",
    "    pdf.cell(0, 10, 'Count of Keyword Appearance:', ln = 1)\n",
    "    keyword_count_tuple = list(keyword_count.items())\n",
    "    keyword_count_tuple.insert(0, ('Keyword', 'Individual Score'))\n",
    "    with pdf.table() as table:\n",
    "        for data_row in keyword_count_tuple:\n",
    "            row = table.row()\n",
    "            for datum in data_row:\n",
    "                row.cell(str(datum).title())\n",
    "\n",
    "    pdf.add_page()\n",
    "    pdf.cell(0, 10, 'Plotting Total Score for each Keyword:', ln = 1)\n",
    "    keywords_score = dict(custom_topic_info['keyword'])\n",
    "    for keyword in keywords_score:\n",
    "        if keyword not in keyword_count:\n",
    "            keywords_score[keyword] = 0\n",
    "        else:\n",
    "            keywords_score[keyword] *= keyword_count[keyword]\n",
    "    plt.bar(*zip(*keywords_score.items()))\n",
    "    plt.xticks(rotation = 90)\n",
    "    plt.xlabel('Keyword')\n",
    "    plt.ylabel('Score')\n",
    "    plt.title('Total Score for each Keyword')\n",
    "    plt.savefig('ts_keyword.svg', format = 'svg')\n",
    "    plt.clf()\n",
    "    pdf.image('ts_keyword.svg', w = pdf.epw)\n",
    "    \n",
    "    pdf.add_page()\n",
    "    pdf.cell(0, 10, 'Plotting Count of Keyword Appearance:', ln = 1)\n",
    "    plt.bar(*zip(*keyword_count.items()))\n",
    "    plt.xticks(rotation = 90)\n",
    "    plt.xlabel('Keyword')\n",
    "    plt.ylabel('Count')\n",
    "    plt.title('Count of Keyword Appearance')\n",
    "    plt.savefig('keyword_app.svg', format = 'svg')\n",
    "    plt.clf()\n",
    "    pdf.image('keyword_app.svg', w = pdf.epw)\n",
    "    \n",
    "    pdf.add_page()\n",
    "    pdf.cell(0, 10, 'Plotting Count of Podcast by Day of Week:', ln = 1)\n",
    "    df['created_date'] = pd.to_datetime(df['created_date'])\n",
    "    df['day'] = df['created_date'].dt.dayofweek\n",
    "    df['day'].value_counts(sort = False).plot(kind = 'bar')\n",
    "    plt.xlabel('Day of Week')\n",
    "    plt.ylabel('Count')\n",
    "    plt.title('Count of Podcast by Day of Week')\n",
    "    plt.savefig('day.svg', format = 'svg')\n",
    "    plt.clf()\n",
    "    pdf.image('day.svg', w = pdf.epw)\n",
    "\n",
    "    pdf.add_page()\n",
    "    pdf.cell(0, 10, 'Plotting Count of Podcast by Hour of Day:', ln = 1)\n",
    "    df['time'] = df['created_date'].dt.hour\n",
    "    df['time'].value_counts(sort = False).plot(kind = 'bar')\n",
    "    plt.xlabel('Hour of Day')\n",
    "    plt.ylabel('Count')\n",
    "    plt.title('Count of Podcast by Hour of Day')\n",
    "    plt.savefig('time.svg', format = 'svg')\n",
    "    plt.clf()\n",
    "    pdf.image('time.svg', w = pdf.epw)\n",
    "\n",
    "    pdf.output('output.pdf', 'F')\n"
   ]
  },
  {
   "cell_type": "code",
   "execution_count": 27,
   "metadata": {},
   "outputs": [
    {
     "name": "stderr",
     "output_type": "stream",
     "text": [
      "Ignoring unsupported SVG tag: <style> (contributions are welcome to add support for it)\n",
      "Ignoring unsupported SVG tag: <metadata> (contributions are welcome to add support for it)\n",
      "Ignoring unsupported SVG tag: <style> (contributions are welcome to add support for it)\n"
     ]
    },
    {
     "name": "stdout",
     "output_type": "stream",
     "text": [
      "Index(['Unnamed: 0', 'id', 'custom_topic_id', 'podcast_id', 'total_score',\n",
      "       'keyword_match', 'created_date', 'updated_date'],\n",
      "      dtype='object')\n"
     ]
    },
    {
     "name": "stderr",
     "output_type": "stream",
     "text": [
      "Ignoring unsupported SVG tag: <style> (contributions are welcome to add support for it)\n",
      "Ignoring unsupported SVG tag: <metadata> (contributions are welcome to add support for it)\n",
      "Ignoring unsupported SVG tag: <style> (contributions are welcome to add support for it)\n",
      "Ignoring unsupported SVG tag: <style> (contributions are welcome to add support for it)\n",
      "Ignoring unsupported SVG tag: <metadata> (contributions are welcome to add support for it)\n",
      "Ignoring unsupported SVG tag: <style> (contributions are welcome to add support for it)\n",
      "Ignoring unsupported SVG tag: <style> (contributions are welcome to add support for it)\n",
      "Ignoring unsupported SVG tag: <metadata> (contributions are welcome to add support for it)\n",
      "Ignoring unsupported SVG tag: <style> (contributions are welcome to add support for it)\n",
      "Ignoring unsupported SVG tag: <style> (contributions are welcome to add support for it)\n",
      "Ignoring unsupported SVG tag: <metadata> (contributions are welcome to add support for it)\n",
      "Ignoring unsupported SVG tag: <style> (contributions are welcome to add support for it)\n"
     ]
    },
    {
     "data": {
      "text/plain": [
       "<Figure size 600x400 with 0 Axes>"
      ]
     },
     "metadata": {},
     "output_type": "display_data"
    }
   ],
   "source": [
    "df = pd.read_csv(os.path.join(PATH_CUSTOM_TOPICS_REPORT, '15.csv'))\n",
    "print(df.columns)\n",
    "df_prep(df, custom_topic_info)"
   ]
  },
  {
   "cell_type": "code",
   "execution_count": 115,
   "metadata": {},
   "outputs": [],
   "source": [
    "def test():\n",
    "    out = pd.cut(df['total_score'], bins = 10, include_lowest = True, precision = 0).value_counts(sort = False)\n",
    "    ax = out.plot.bar(rot = 90, color = 'b', figsize = (6,4))\n",
    "    for i, v in out.reset_index().iterrows():\n",
    "        ax.text(i - 0.2, v['count'] + 10, v['count'], color = 'red')\n",
    "    ax.set_title('Podcasts per Score Bin')\n",
    "    ax.set_xlabel('Score Bins')\n",
    "    ax.set_ylabel('Podcast Count')\n",
    "    return ax"
   ]
  },
  {
   "cell_type": "code",
   "execution_count": 116,
   "metadata": {},
   "outputs": [
    {
     "data": {
      "text/plain": [
       "<Axes: title={'center': 'Podcasts per Score Bin'}, xlabel='Score Bins', ylabel='Podcast Count'>"
      ]
     },
     "execution_count": 116,
     "metadata": {},
     "output_type": "execute_result"
    },
    {
     "data": {
      "image/png": "[encoded data removed]",
      "text/plain": [
       "<Figure size 600x400 with 1 Axes>"
      ]
     },
     "metadata": {},
     "output_type": "display_data"
    }
   ],
   "source": [
    "test()"
   ]
  },
  {
   "cell_type": "code",
   "execution_count": null,
   "metadata": {},
   "outputs": [],
   "source": []
  }
 ],
 "metadata": {
  "kernelspec": {
   "display_name": "Python 3",
   "language": "python",
   "name": "python3"
  },
  "language_info": {
   "codemirror_mode": {
    "name": "ipython",
    "version": 3
   },
   "file_extension": ".py",
   "mimetype": "text/x-python",
   "name": "python",
   "nbconvert_exporter": "python",
   "pygments_lexer": "ipython3",
   "version": "3.11.6"
  }
 },
 "nbformat": 4,
 "nbformat_minor": 2
}

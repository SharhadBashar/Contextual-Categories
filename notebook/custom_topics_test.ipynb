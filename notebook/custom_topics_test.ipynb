{
 "cells": [
  {
   "cell_type": "code",
   "execution_count": 25,
   "metadata": {},
   "outputs": [],
   "source": [
    "import os\n",
    "import re\n",
    "import json\n",
    "# import pyodbc\n",
    "import dateutil.parser as parser \n",
    "from datetime import datetime, timedelta, date\n",
    "\n",
    "from pprint import pprint"
   ]
  },
  {
   "cell_type": "code",
   "execution_count": 34,
   "metadata": {},
   "outputs": [],
   "source": [
    "class Custom_Topic:\n",
    "    def __init__(self, custom_topic, keyword_score_list, total_score = 100, start_date = None, end_date = None):\n",
    "        self.custom_topic = custom_topic.lower()\n",
    "        self.keyword_score = self.get_keyword_score(keyword_score_list)\n",
    "        self.total_score = total_score\n",
    "        self.start_date = parser.parse(start_date, dayfirst = True).date() if start_date else date.today()\n",
    "        self.end_date = parser.parse(end_date, dayfirst = True).date() if end_date else start_date.replace(start_date.year + 1)\n",
    "        \n",
    "    def get_keyword_score(self, keyword_score_list: list) -> list:\n",
    "        keyword_score = []\n",
    "        keyword_score_list_len = len(keyword_score_list)\n",
    "        if (keyword_score_list_len % 2 != 0):\n",
    "            print('Missing score for a keyword')\n",
    "            quit()\n",
    "        for i in range(0, keyword_score_list_len, 2):\n",
    "            if ('(' in keyword_score_list[i]):\n",
    "                with_stop_word = keyword_score_list[i].replace('(', '')\n",
    "                with_stop_word = with_stop_word.replace(')', '')\n",
    "                keyword_score.append((with_stop_word.lower(), keyword_score_list[i + 1]))\n",
    "                without_stop_word = re.sub(r'\\(.*\\)', '', keyword_score_list[i]).replace('  ', ' ').strip()\n",
    "                keyword_score.append((without_stop_word.lower(), keyword_score_list[i + 1]))\n",
    "            else:\n",
    "                keyword_score.append((keyword_score_list[i].lower(), keyword_score_list[i + 1]))\n",
    "        return keyword_score\n",
    "\n",
    "class Custom_Topics:\n",
    "    def __init__(self):\n",
    "        self.db = Database()\n",
    "        \n",
    "    def add_custom_topic(self, custom_topic: Custom_Topic):\n",
    "        last_custom_id = self.db.write_custom_topic()\n"
   ]
  },
  {
   "cell_type": "code",
   "execution_count": 35,
   "metadata": {},
   "outputs": [],
   "source": [
    "topic = 'Euro footbal 2024'\n",
    "keyword_score_list = ['euro 2024', 100,\n",
    "                      'footbal', 10,\n",
    "                      'match (de) pool', 25,\n",
    "                      'équipe (de) france', 15,\n",
    "                      '(les) bleus', 15,\n",
    "                      'Didier Deschamps', 100,\n",
    "                      'Kylian Mbappé', 25,\n",
    "                      'Allemagne', 10\n",
    "                      ]\n",
    "start_date = '14-12-2023'\n",
    "end_date = '7-14-2024'\n",
    "custom_topic = Custom_Topic(topic, keyword_score_list, end_date = end_date)"
   ]
  },
  {
   "cell_type": "code",
   "execution_count": 36,
   "metadata": {},
   "outputs": [
    {
     "name": "stdout",
     "output_type": "stream",
     "text": [
      "{'custom_topic': 'euro footbal 2024',\n",
      " 'end_date': datetime.date(2024, 7, 14),\n",
      " 'keyword_score': [('euro 2024', 100),\n",
      "                   ('footbal', 10),\n",
      "                   ('match de pool', 25),\n",
      "                   ('match pool', 25),\n",
      "                   ('équipe de france', 15),\n",
      "                   ('équipe france', 15),\n",
      "                   ('les bleus', 15),\n",
      "                   ('bleus', 15),\n",
      "                   ('didier deschamps', 100),\n",
      "                   ('kylian mbappé', 25),\n",
      "                   ('allemagne', 10)],\n",
      " 'start_date': datetime.date(2023, 12, 14),\n",
      " 'total_score': 100}\n"
     ]
    }
   ],
   "source": [
    "pprint(custom_topic.__dict__)"
   ]
  },
  {
   "cell_type": "code",
   "execution_count": 5,
   "metadata": {},
   "outputs": [],
   "source": [
    "class Database:\n",
    "    def __init__(self, env = 'prod'):\n",
    "        with open(os.path.join(PATH_CONFIG, DB_CONFIG)) as file:\n",
    "            database_info = json.load(file)\n",
    "        self.conn_common = self._database_conn(database_info[env], 'common')\n",
    "        self.conn_dmp = self._database_conn(database_info[env], 'dmp')\n",
    "\n",
    "    def _database_conn(self, database_info, database):\n",
    "        return 'DRIVER={};\\\n",
    "                    SERVER={};\\\n",
    "                    DATABASE={};\\\n",
    "                    UID={};\\\n",
    "                    PWD={};\\\n",
    "                    TrustServerCertificate=yes'.format(\n",
    "            database_info['driver'], database_info['server'], \n",
    "            database_info['database'][database],\n",
    "            database_info['username'], database_info['password']\n",
    "        )\n",
    "\n",
    "    def get_custom_topic_id(self, custom_topic):\n",
    "        conn = pyodbc.connect(self.conn_dmp)\n",
    "        query = \"\"\"SELECT Id\n",
    "                   FROM dbo.CustomTopics\n",
    "                   WHERE CustomTopic = {}\n",
    "                \"\"\".format(custom_topic.lower())\n",
    "        cursor = conn.cursor()\n",
    "        cursor.execute(query)\n",
    "        custom_topic_id = cursor.fetchone()[0]\n",
    "        cursor.close()\n",
    "        return custom_topic_id \n",
    "\n",
    "    def write_custom_topic(self, custom_topic):\n",
    "        conn = pyodbc.connect(self.conn_dmp)\n",
    "        query = \"\"\"INSERT INTO dbo.CustomTopics\n",
    "                    (CustomTopic, TotalScore, Active, \n",
    "                    StartDate, EndDate, CreatedDate, UpdatedDate,)\n",
    "                   VALUES\n",
    "                    ('{}', {}, 'True', '{}', '{}', '{}', '{}')\n",
    "                \"\"\".format(\n",
    "                    custom_topic['custom_topic'],\n",
    "                    custom_topic['total_score'],\n",
    "                    custom_topic['start_date'],\n",
    "                    custom_topic['end_date'],\n",
    "                    datetime.now().strftime('%Y-%m-%d %H:%M:%S'), # CreatedDate\n",
    "                    datetime.now().strftime('%Y-%m-%d %H:%M:%S'), # UpdatedDate\n",
    "                )\n",
    "        cursor = conn.cursor()\n",
    "        cursor.execute(query)\n",
    "        conn.commit()\n",
    "        last_custom_id = cursor.lastrowid\n",
    "        cursor.close()\n",
    "        return last_custom_id\n",
    "        "
   ]
  },
  {
   "cell_type": "code",
   "execution_count": 8,
   "metadata": {},
   "outputs": [
    {
     "name": "stdout",
     "output_type": "stream",
     "text": [
      "Emma 10 ABC School \n",
      "Jessa 20 ABC School \n"
     ]
    }
   ],
   "source": [
    "class Student:\n",
    "    # Class variable\n",
    "    school_name = 'ABC School '\n",
    "    \n",
    "    def __init__(self, name, roll_no):\n",
    "        self.name = name\n",
    "        self.roll_no = roll_no\n",
    "\n",
    "# create first object\n",
    "s1 = Student('Emma', 10)\n",
    "print(s1.name, s1.roll_no, s1.school_name)\n",
    "# access class variable\n",
    "\n",
    "# create second object\n",
    "s2 = Student('Jessa', 20)\n",
    "# access class variable\n",
    "print(s2.name, s2.roll_no, s2.school_name)"
   ]
  },
  {
   "cell_type": "code",
   "execution_count": null,
   "metadata": {},
   "outputs": [],
   "source": [
    "query = \"\"\"INSERT INTO \n",
    "                   dbo.ContextualCategories \n",
    "                   (ShowId, EpisodeId, PublisherId, AppleContentFormatId, IabV2ContentFormatId, \n",
    "                    Active, CreatedDate, UpdatedDate,\n",
    "                    PodcastName, EpisodeName, Keywords,\n",
    "                    ContentType, ContentUrl, TransLink,\n",
    "                    Topics, TopicsMatch, Description)\n",
    "                   VALUES \n",
    "                    ('{}', '{}', {}, {}, {},\n",
    "                    'True', '{}', '{}', \n",
    "                    '{}', '{}', '{}',\n",
    "                    '{}', '{}', '{}', \n",
    "                    '{}', '{}', '{}')\n",
    "                \"\"\".format( \n",
    "                    data['ShowId'], \n",
    "                    data['EpisodeId'], \n",
    "                    data['PublisherId'], \n",
    "                    data['AppleContentFormatId'], \n",
    "                    data['IabV2ContentFormatId'], \n",
    "                    # data['Active'] -> Always True initially, \n",
    "                    datetime.now().strftime('%Y-%m-%d %H:%M:%S'), # CreatedDate\n",
    "                    datetime.now().strftime('%Y-%m-%d %H:%M:%S'), # UpdatedDate\n",
    "                    data['PodcastName'],\n",
    "                    data['EpisodeName'],\n",
    "                    data['Keywords'],\n",
    "                    data['ContentType'],\n",
    "                    data['ContentUrl'],\n",
    "                    data['TransLink'],\n",
    "                    str(data['Topics']),\n",
    "                    str(data['TopicsMatch']),\n",
    "                    data['Description']\n",
    "                )"
   ]
  }
 ],
 "metadata": {
  "kernelspec": {
   "display_name": "Python 3",
   "language": "python",
   "name": "python3"
  },
  "language_info": {
   "codemirror_mode": {
    "name": "ipython",
    "version": 3
   },
   "file_extension": ".py",
   "mimetype": "text/x-python",
   "name": "python",
   "nbconvert_exporter": "python",
   "pygments_lexer": "ipython3",
   "version": "3.9.16"
  }
 },
 "nbformat": 4,
 "nbformat_minor": 2
}

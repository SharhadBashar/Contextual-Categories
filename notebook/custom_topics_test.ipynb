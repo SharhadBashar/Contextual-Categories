{
 "cells": [
  {
   "cell_type": "code",
   "execution_count": 4,
   "metadata": {},
   "outputs": [],
   "source": [
    "import os\n",
    "import json\n",
    "# import pyodbc\n",
    "from datetime import datetime, timedelta"
   ]
  },
  {
   "cell_type": "code",
   "execution_count": null,
   "metadata": {},
   "outputs": [],
   "source": [
    "class Custom_Topic:\n",
    "    def __init__(self, custom_topic, keyword_score_list, total_score, start_date, end_date):\n",
    "        self.custom_topic_id = self.get_custom_topic_id()\n",
    "        self.custom_topic = custom_topic.lower()\n",
    "        self.keyword_score = self.get_keyword_score(keyword_score_list)\n",
    "        self.total_score = total_score\n",
    "        self.start_date = datetime.strptime(start_date, '%m-%d-%Y').date()\n",
    "        self.end_date = datetime.strptime(end_date, '%m-%d-%Y').date()\n",
    "    \n",
    "    def get_custom_topic_id(self) -> int:\n",
    "        return -1\n",
    "    \n",
    "    def get_keyword_score(keyword_score_list: list) -> list(tuple):\n",
    "        keyword_score = []\n",
    "        keyword_score_list_len = len(keyword_score_list)\n",
    "        if (keyword_score_list_len % 2 != 0):\n",
    "            print('Missing score for a keyword')\n",
    "            quit()\n",
    "        for i in range(0, keyword_score_list_len, 2):\n",
    "            if ('(' in keyword_score_list[i]):\n",
    "                with_stop_word = keyword_score_list[i].replace('(', '')\n",
    "                with_stop_word = with_stop_word.replace(')', '')\n",
    "                keyword_score.append((with_stop_word.lower(), keyword_score_list[i + 1]))\n",
    "                without_stop_word = re.sub(r'\\(.*\\)', '', keyword_score_list[i])\n",
    "            else:\n",
    "                keyword_score.append((keyword_score_list[i].lower(), keyword_score_list[i + 1]))\n",
    "        return keyword_score\n",
    "            \n",
    "    \n"
   ]
  },
  {
   "cell_type": "code",
   "execution_count": 5,
   "metadata": {},
   "outputs": [],
   "source": [
    "class Database:\n",
    "    def __init__(self, env = 'prod'):\n",
    "        with open(os.path.join(PATH_CONFIG, DB_CONFIG)) as file:\n",
    "            database_info = json.load(file)\n",
    "        self.conn_common = self._database_conn(database_info[env], 'common')\n",
    "        self.conn_dmp = self._database_conn(database_info[env], 'dmp')\n",
    "\n",
    "    def _database_conn(self, database_info, database):\n",
    "        return 'DRIVER={};\\\n",
    "                    SERVER={};\\\n",
    "                    DATABASE={};\\\n",
    "                    UID={};\\\n",
    "                    PWD={};\\\n",
    "                    TrustServerCertificate=yes'.format(\n",
    "            database_info['driver'], database_info['server'], \n",
    "            database_info['database'][database],\n",
    "            database_info['username'], database_info['password']\n",
    "        )\n",
    "\n",
    "    def add_custom_topic(self, )"
   ]
  },
  {
   "cell_type": "code",
   "execution_count": 8,
   "metadata": {},
   "outputs": [
    {
     "name": "stdout",
     "output_type": "stream",
     "text": [
      "Emma 10 ABC School \n",
      "Jessa 20 ABC School \n"
     ]
    }
   ],
   "source": [
    "class Student:\n",
    "    # Class variable\n",
    "    school_name = 'ABC School '\n",
    "    \n",
    "    def __init__(self, name, roll_no):\n",
    "        self.name = name\n",
    "        self.roll_no = roll_no\n",
    "\n",
    "# create first object\n",
    "s1 = Student('Emma', 10)\n",
    "print(s1.name, s1.roll_no, s1.school_name)\n",
    "# access class variable\n",
    "\n",
    "# create second object\n",
    "s2 = Student('Jessa', 20)\n",
    "# access class variable\n",
    "print(s2.name, s2.roll_no, s2.school_name)"
   ]
  },
  {
   "cell_type": "code",
   "execution_count": null,
   "metadata": {},
   "outputs": [],
   "source": []
  }
 ],
 "metadata": {
  "kernelspec": {
   "display_name": "Python 3",
   "language": "python",
   "name": "python3"
  },
  "language_info": {
   "codemirror_mode": {
    "name": "ipython",
    "version": 3
   },
   "file_extension": ".py",
   "mimetype": "text/x-python",
   "name": "python",
   "nbconvert_exporter": "python",
   "pygments_lexer": "ipython3",
   "version": "3.9.16"
  }
 },
 "nbformat": 4,
 "nbformat_minor": 2
}

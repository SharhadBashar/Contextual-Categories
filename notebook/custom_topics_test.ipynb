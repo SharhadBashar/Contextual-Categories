{
 "cells": [
  {
   "cell_type": "code",
   "execution_count": 6,
   "metadata": {},
   "outputs": [],
   "source": [
    "import os\n",
    "import re\n",
    "import json\n",
    "# import pyodbc\n",
    "import pickle\n",
    "from pprint import pprint\n",
    "from cleantext import clean\n",
    "import dateutil.parser as parser \n",
    "from datetime import datetime, timedelta, date"
   ]
  },
  {
   "cell_type": "code",
   "execution_count": 7,
   "metadata": {},
   "outputs": [],
   "source": [
    "PATH_DATA = '../data/'\n",
    "PATH_DATA_TEXT = os.path.join(PATH_DATA, 'text/')"
   ]
  },
  {
   "cell_type": "code",
   "execution_count": 28,
   "metadata": {},
   "outputs": [],
   "source": [
    "class Custom_Topic:\n",
    "    def __init__(self, custom_topic, keyword_score_list, total_score = 100, start_date = None, end_date = None):\n",
    "        self.custom_topic = {\n",
    "            'custom_topic': custom_topic.lower(),\n",
    "            'keyword_score': self.get_keyword_score(keyword_score_list),\n",
    "            'total_score': total_score,\n",
    "            'start_date': parser.parse(start_date, dayfirst = True).date() if start_date else date.today(),\n",
    "            'end_date': parser.parse(end_date, dayfirst = True).date() if end_date else start_date.replace(start_date.year + 1)\n",
    "        }\n",
    "\n",
    "    def __getitem__(self, key):\n",
    "        return self.custom_topic[key]\n",
    "        \n",
    "    def get_keyword_score(self, keyword_score_list: list) -> list:\n",
    "        keyword_score = []\n",
    "        keyword_score_list_len = len(keyword_score_list)\n",
    "        if (keyword_score_list_len % 2 != 0):\n",
    "            print('Missing score for a keyword')\n",
    "            quit()\n",
    "        for i in range(0, keyword_score_list_len, 2):\n",
    "            if ('(' in keyword_score_list[i]):\n",
    "                with_stop_word = keyword_score_list[i].replace('(', '')\n",
    "                with_stop_word = with_stop_word.replace(')', '')\n",
    "                keyword_score.append((with_stop_word.lower(), keyword_score_list[i + 1]))\n",
    "                without_stop_word = re.sub(r'\\(.*\\)', '', keyword_score_list[i]).replace('  ', ' ').strip()\n",
    "                keyword_score.append((without_stop_word.lower(), keyword_score_list[i + 1]))\n",
    "            else:\n",
    "                keyword_score.append((keyword_score_list[i].lower(), keyword_score_list[i + 1]))\n",
    "        return keyword_score\n",
    "\n",
    "class Custom_Topics:\n",
    "    def __init__(self, text_data_path = None):\n",
    "        self.text_data_path = text_data_path if text_data_path else PATH_DATA_TEXT\n",
    "        # self.db = Database()\n",
    "        \n",
    "    def add_new_custom_topic(self, custom_topic: Custom_Topic):\n",
    "        values = []\n",
    "        last_custom_id = self.db.write_custom_topic(custom_topic)\n",
    "        for keyword_score in custom_topic['keyword_score']:\n",
    "            values.append((*keyword_score, last_custom_id, \n",
    "                           datetime.now().strftime('%Y-%m-%d %H:%M:%S'), \n",
    "                           datetime.now().strftime('%Y-%m-%d %H:%M:%S')\n",
    "                        ))\n",
    "        self.db.write_custom_topic_keyword(values)\n",
    "\n",
    "    def clean_text(self, text_dict):\n",
    "        text = text_dict['text']\n",
    "        text = clean(text, clean_all = False,\n",
    "\t\t\t\t\t\t   extra_spaces = True,\n",
    "\t\t\t\t\t\t   stemming = False,\n",
    "\t\t\t\t\t\t   stopwords = False,\n",
    "\t\t\t\t\t\t   lowercase = True,\n",
    "\t\t\t\t\t\t   numbers = False,\n",
    "\t\t\t\t\t\t   punct = True\n",
    "\t\t\t\t\t)\n",
    "        return text\n",
    "\n",
    "    def find_custom_topic(self, custom_topic, text_file):\n",
    "        podcast_score = 0\n",
    "        keyword_match = {}\n",
    "        text = self.clean_text(pickle.load(open(os.path.join(self.text_data_path, text_file), 'rb')))\n",
    "        for keyword, score in custom_topic['keyword']:\n",
    "            count = text.count(keyword)\n",
    "            keyword_match[keyword] = count\n",
    "            podcast_score += score * count\n",
    "        return podcast_score >= custom_topic['total_score'], keyword_match   \n"
   ]
  },
  {
   "cell_type": "code",
   "execution_count": 23,
   "metadata": {},
   "outputs": [],
   "source": [
    "custom_topic = {'custom_topic': 'euro footbal 2024',\n",
    "'keyword': [('euro 2024', 100),\n",
    "  ('footbal', 10),\n",
    "  ('match de pool', 25),\n",
    "  ('match pool', 25),\n",
    "  ('équipe de france', 15),\n",
    "  ('équipe france', 15),\n",
    "  ('les bleus', 15),\n",
    "  ('bleus', 15),\n",
    "  ('didier deschamps', 100),\n",
    "  ('kylian mbappé', 25),\n",
    "  ('allemagne', 10)],\n",
    " 'id': 12,\n",
    " 'total_score': 100}"
   ]
  },
  {
   "cell_type": "code",
   "execution_count": 29,
   "metadata": {},
   "outputs": [],
   "source": [
    "result, keyword_match = Custom_Topics().find_custom_topic(custom_topic, 'podcast.pkl')"
   ]
  },
  {
   "cell_type": "code",
   "execution_count": 30,
   "metadata": {},
   "outputs": [
    {
     "name": "stdout",
     "output_type": "stream",
     "text": [
      "True {'euro 2024': 5, 'footbal': 3, 'match de pool': 0, 'match pool': 0, 'équipe de france': 4, 'équipe france': 0, 'les bleus': 3, 'bleus': 4, 'didier deschamps': 2, 'kylian mbappé': 1, 'allemagne': 5}\n"
     ]
    }
   ],
   "source": [
    "print(result, keyword_match)"
   ]
  },
  {
   "cell_type": "code",
   "execution_count": 27,
   "metadata": {},
   "outputs": [
    {
     "data": {
      "text/plain": [
       "970"
      ]
     },
     "execution_count": 27,
     "metadata": {},
     "output_type": "execute_result"
    }
   ],
   "source": [
    "score"
   ]
  },
  {
   "cell_type": "code",
   "execution_count": 27,
   "metadata": {},
   "outputs": [],
   "source": [
    "topic = 'Euro footbal 2024'\n",
    "keyword_score_list = ['euro 2024', 100,\n",
    "                      'footbal', 10,\n",
    "                      'match (de) pool', 25,\n",
    "                      'équipe (de) france', 15,\n",
    "                      '(les) bleus', 15,\n",
    "                      'Didier Deschamps', 100,\n",
    "                      'Kylian Mbappé', 25,\n",
    "                      'Allemagne', 10\n",
    "                      ]\n",
    "start_date = '14-12-2023'\n",
    "end_date = '7-14-2024'\n",
    "custom_topic = Custom_Topic(topic, keyword_score_list, end_date = end_date)"
   ]
  },
  {
   "cell_type": "code",
   "execution_count": 29,
   "metadata": {},
   "outputs": [
    {
     "name": "stdout",
     "output_type": "stream",
     "text": [
      "{'custom_topic': {'custom_topic': 'euro footbal 2024',\n",
      "                  'end_date': datetime.date(2024, 7, 14),\n",
      "                  'keyword_score': [('euro 2024', 100),\n",
      "                                    ('footbal', 10),\n",
      "                                    ('match de pool', 25),\n",
      "                                    ('match pool', 25),\n",
      "                                    ('équipe de france', 15),\n",
      "                                    ('équipe france', 15),\n",
      "                                    ('les bleus', 15),\n",
      "                                    ('bleus', 15),\n",
      "                                    ('didier deschamps', 100),\n",
      "                                    ('kylian mbappé', 25),\n",
      "                                    ('allemagne', 10)],\n",
      "                  'start_date': datetime.date(2023, 12, 12),\n",
      "                  'total_score': 100}}\n"
     ]
    }
   ],
   "source": []
  },
  {
   "cell_type": "code",
   "execution_count": 5,
   "metadata": {},
   "outputs": [],
   "source": [
    "class Database:\n",
    "    def __init__(self, env = 'prod'):\n",
    "        with open(os.path.join(PATH_CONFIG, DB_CONFIG)) as file:\n",
    "            database_info = json.load(file)\n",
    "        self.conn_common = self._database_conn(database_info[env], 'common')\n",
    "        self.conn_dmp = self._database_conn(database_info[env], 'dmp')\n",
    "\n",
    "    def _database_conn(self, database_info, database):\n",
    "        return 'DRIVER={};\\\n",
    "                    SERVER={};\\\n",
    "                    DATABASE={};\\\n",
    "                    UID={};\\\n",
    "                    PWD={};\\\n",
    "                    TrustServerCertificate=yes'.format(\n",
    "            database_info['driver'], database_info['server'], \n",
    "            database_info['database'][database],\n",
    "            database_info['username'], database_info['password']\n",
    "        )\n",
    "\n",
    "    def get_custom_topic_id(self, custom_topic):\n",
    "        conn = pyodbc.connect(self.conn_dmp)\n",
    "        query = \"\"\"SELECT Id\n",
    "                   FROM dbo.CustomTopics\n",
    "                   WHERE CustomTopic = {}\n",
    "                \"\"\".format(custom_topic.lower())\n",
    "        cursor = conn.cursor()\n",
    "        cursor.execute(query)\n",
    "        custom_topic_id = cursor.fetchone()[0]\n",
    "        cursor.close()\n",
    "        return custom_topic_id \n",
    "\n",
    "    def write_custom_topic(self, custom_topic):\n",
    "        conn = pyodbc.connect(self.conn_dmp)\n",
    "        query = \"\"\"INSERT INTO dbo.CustomTopics\n",
    "                    (CustomTopic, TotalScore, Active, \n",
    "                    StartDate, EndDate, CreatedDate, UpdatedDate)\n",
    "                   VALUES\n",
    "                    ('{}', {}, 'True', '{}', '{}', '{}', '{}')\n",
    "                \"\"\".format(\n",
    "                    custom_topic['custom_topic'],\n",
    "                    custom_topic['total_score'],\n",
    "                    custom_topic['start_date'],\n",
    "                    custom_topic['end_date'],\n",
    "                    datetime.now().strftime('%Y-%m-%d %H:%M:%S'), # CreatedDate\n",
    "                    datetime.now().strftime('%Y-%m-%d %H:%M:%S'), # UpdatedDate\n",
    "                )\n",
    "        cursor = conn.cursor()\n",
    "        cursor.execute(query)\n",
    "        conn.commit()\n",
    "        last_custom_id = cursor.lastrowid\n",
    "        cursor.close()\n",
    "        return last_custom_id\n",
    "    \n",
    "    def write_custom_topic_keyword(self, values):\n",
    "        conn = pyodbc.connect(self.conn_dmp)\n",
    "        query = \"\"\"INSERT INTO dbo.CustomTopicsKeywords\n",
    "                    (Keyword, Score, CustomTopicId, CreatedDate, UpdatedDate)\n",
    "                   VALUES\n",
    "                    (%s, %d, %d, %s, %s)\n",
    "                \"\"\"\n",
    "        cursor = conn.cursor()\n",
    "        cursor.executemany(query, values)\n",
    "        conn.commit()\n",
    "        cursor.close()\n"
   ]
  }
 ],
 "metadata": {
  "kernelspec": {
   "display_name": "Python 3",
   "language": "python",
   "name": "python3"
  },
  "language_info": {
   "codemirror_mode": {
    "name": "ipython",
    "version": 3
   },
   "file_extension": ".py",
   "mimetype": "text/x-python",
   "name": "python",
   "nbconvert_exporter": "python",
   "pygments_lexer": "ipython3",
   "version": "3.9.16"
  }
 },
 "nbformat": 4,
 "nbformat_minor": 2
}

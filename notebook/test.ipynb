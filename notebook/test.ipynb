{
 "cells": [
  {
   "cell_type": "code",
   "execution_count": 1,
   "metadata": {},
   "outputs": [],
   "source": [
    "import os\n",
    "import pickle\n",
    "# import pandas as pd"
   ]
  },
  {
   "cell_type": "code",
   "execution_count": 2,
   "metadata": {},
   "outputs": [],
   "source": [
    "path = '../data/static_category/'\n",
    "apple_cat = 'apple_cat.csv'\n",
    "iab_cat = 'iab_cat.csv'"
   ]
  },
  {
   "cell_type": "code",
   "execution_count": 15,
   "metadata": {},
   "outputs": [],
   "source": [
    "def run(file):\n",
    "    cat_dict = {}\n",
    "    save_file = file.replace('.csv', '.pkl')\n",
    "    df = pd.read_csv(file)\n",
    "    for index, row in df.iterrows():\n",
    "        cat_dict[row['Name']] = row['Id']\n",
    "    with open(save_file, 'wb') as f: \n",
    "        pickle.dump(cat_dict, f)"
   ]
  },
  {
   "cell_type": "code",
   "execution_count": 16,
   "metadata": {},
   "outputs": [],
   "source": [
    "run(os.path.join(path, apple_cat))\n",
    "run(os.path.join(path, iab_cat))"
   ]
  },
  {
   "cell_type": "code",
   "execution_count": 5,
   "metadata": {},
   "outputs": [],
   "source": [
    "from whisper_jax import FlaxWhisperPipline"
   ]
  },
  {
   "cell_type": "code",
   "execution_count": 6,
   "metadata": {},
   "outputs": [
    {
     "name": "stderr",
     "output_type": "stream",
     "text": [
      "Downloading (…)rocessor_config.json: 100%|██████████| 185k/185k [00:00<00:00, 5.29MB/s]\n",
      "Downloading (…)okenizer_config.json: 100%|██████████| 841/841 [00:00<00:00, 399kB/s]\n",
      "Downloading (…)olve/main/vocab.json: 100%|██████████| 1.04M/1.04M [00:00<00:00, 7.28MB/s]\n",
      "Downloading (…)/main/tokenizer.json: 100%|██████████| 2.20M/2.20M [00:00<00:00, 2.72MB/s]\n",
      "Downloading (…)olve/main/merges.txt: 100%|██████████| 494k/494k [00:00<00:00, 6.38MB/s]\n",
      "Downloading (…)main/normalizer.json: 100%|██████████| 52.7k/52.7k [00:00<00:00, 3.06MB/s]\n",
      "Downloading (…)in/added_tokens.json: 100%|██████████| 2.08k/2.08k [00:00<00:00, 707kB/s]\n",
      "Downloading (…)cial_tokens_map.json: 100%|██████████| 2.08k/2.08k [00:00<00:00, 811kB/s]\n",
      "Downloading (…)lve/main/config.json: 100%|██████████| 1.98k/1.98k [00:00<00:00, 893kB/s]\n",
      "Downloading flax_model.msgpack: 100%|██████████| 151M/151M [00:17<00:00, 8.88MB/s] \n",
      "Downloading (…)neration_config.json: 100%|██████████| 3.51k/3.51k [00:00<00:00, 1.88MB/s]\n"
     ]
    }
   ],
   "source": [
    "# pipeline = FlaxWhisperPipline(\"openai/whisper-large-v2\")\n",
    "pipeline = FlaxWhisperPipline(\"openai/whisper-tiny\")"
   ]
  },
  {
   "cell_type": "code",
   "execution_count": 9,
   "metadata": {},
   "outputs": [],
   "source": [
    "text = pipeline(\"../data/audio/The_Organic_Gardener_11-20-22.mp3\")"
   ]
  },
  {
   "cell_type": "code",
   "execution_count": 10,
   "metadata": {},
   "outputs": [],
   "source": [
    "text = pipeline(\"../data/audio/The_Organic_Gardener_11-20-22.mp3\")"
   ]
  },
  {
   "cell_type": "code",
   "execution_count": 5,
   "metadata": {},
   "outputs": [],
   "source": [
    "import requests"
   ]
  },
  {
   "cell_type": "code",
   "execution_count": 6,
   "metadata": {},
   "outputs": [],
   "source": [
    "url = 'https://api.spreaker.com/download/episode/53772091/20230507wkpwp_intclassic.mp3'"
   ]
  },
  {
   "cell_type": "code",
   "execution_count": 7,
   "metadata": {},
   "outputs": [
    {
     "name": "stdout",
     "output_type": "stream",
     "text": [
      "<Response [200]>\n"
     ]
    }
   ],
   "source": [
    "r = requests.get(url, allow_redirects = True)\n",
    "r = requests.get(r.url, allow_redirects = True)\n",
    "print(r)"
   ]
  },
  {
   "cell_type": "code",
   "execution_count": 8,
   "metadata": {},
   "outputs": [],
   "source": [
    "with open('../data/audio/53745822.mp3', 'wb') as file:\n",
    "    file.write(r.content)\n",
    "file.close()"
   ]
  },
  {
   "cell_type": "code",
   "execution_count": 2,
   "metadata": {},
   "outputs": [],
   "source": [
    "import pickle"
   ]
  },
  {
   "cell_type": "code",
   "execution_count": 3,
   "metadata": {},
   "outputs": [],
   "source": [
    "file = open('../data/stop_words/stop_words_english.pkl', 'rb')\n",
    "\n",
    "# dump information to that file\n",
    "data = pickle.load(file)\n",
    "\n",
    "# close the file\n",
    "file.close()\n",
    "data.add('week')"
   ]
  },
  {
   "cell_type": "code",
   "execution_count": 4,
   "metadata": {},
   "outputs": [],
   "source": [
    "file = open('../data/stop_words/stop_words_english.pkl', 'wb')\n",
    "\n",
    "# dump information to that file\n",
    "pickle.dump(data, file)\n",
    "\n",
    "# close the file\n",
    "file.close()"
   ]
  },
  {
   "cell_type": "code",
   "execution_count": 2,
   "metadata": {},
   "outputs": [],
   "source": [
    "file = open('../data/stop_words/stop_words_french.pkl', 'rb')\n",
    "\n",
    "# dump information to that file\n",
    "data = pickle.load(file)\n",
    "\n",
    "# close the file\n",
    "file.close()\n",
    "data.remove('testingthistest')\n",
    "\n",
    "file = open('../data/stop_words/stop_words_french.pkl', 'wb')\n",
    "\n",
    "# dump information to that file\n",
    "pickle.dump(data, file)\n",
    "\n",
    "# close the file\n",
    "file.close()"
   ]
  },
  {
   "cell_type": "code",
   "execution_count": 3,
   "metadata": {},
   "outputs": [],
   "source": [
    "file = open('../data/stop_words/stop_words_french.pkl', 'wb')\n",
    "\n",
    "# dump information to that file\n",
    "pickle.dump(data, file)\n",
    "\n",
    "# close the file\n",
    "file.close()"
   ]
  },
  {
   "cell_type": "code",
   "execution_count": 3,
   "metadata": {},
   "outputs": [],
   "source": [
    "new_french = ['vie',\n",
    "'histoire',\n",
    "'temp',\n",
    "'français',\n",
    "'mort',\n",
    "'père',\n",
    "'jour',\n",
    "'enfants',\n",
    "'femme',\n",
    "'enfant',\n",
    "'homme',\n",
    "'siècle',\n",
    "'mère',\n",
    "'jean',\n",
    "'ca',\n",
    "'femmes',\n",
    "'fille',\n",
    "'point',\n",
    "'aller',\n",
    "'nuit',\n",
    "'petit',\n",
    "'jours',\n",
    "'an',\n",
    "'mouvement',\n",
    "'question',\n",
    "'relation',\n",
    "'image',\n",
    "'mois',\n",
    "'année',\n",
    "'situation',\n",
    "'occasion',\n",
    "'ensemble',\n",
    "'unis',\n",
    "'tête',\n",
    "'émission',\n",
    "'hive',\n",
    "'bande',\n",
    "'aime',\n",
    "'kilo',\n",
    "'française',\n",
    "'rue',\n",
    "'frère',\n",
    "'main',\n",
    "'charge']\n",
    "\n",
    "file = open('../data/stop_words/stop_words_french.pkl', 'rb')\n",
    "\n",
    "# dump information to that file\n",
    "data = pickle.load(file)\n",
    "\n",
    "# close the file\n",
    "file.close()"
   ]
  },
  {
   "cell_type": "code",
   "execution_count": 4,
   "metadata": {},
   "outputs": [],
   "source": [
    "for word in new_french:\n",
    "    data.add(word)"
   ]
  },
  {
   "cell_type": "code",
   "execution_count": 5,
   "metadata": {},
   "outputs": [],
   "source": [
    "file = open('../data/stop_words/stop_words_french.pkl', 'wb')\n",
    "pickle.dump(data, file)\n",
    "file.close()"
   ]
  },
  {
   "cell_type": "code",
   "execution_count": 14,
   "metadata": {},
   "outputs": [],
   "source": [
    "data = pickle.load(open('../data/text/2023B20275S1286.pkl', 'rb'))"
   ]
  },
  {
   "cell_type": "code",
   "execution_count": 15,
   "metadata": {},
   "outputs": [],
   "source": [
    "data['text'] = \"Bienvenue à notre podcast spécial sur l'Euro 2024 ! Aujourd'hui, nous plongeons dans l'univers passionnant du football et explorons le match de poule entre l'équipe de France et l'Allemagne. Animateur: Bonjour à tous les amateurs de football ! Nous avons un épisode excitant aujourd'hui, centré sur l'Euro 2024. Rejoignez-nous pour discuter du passionnant match de poule entre l'équipe de France et l'Allemagne. Commentateur 1: Absolument ! Les yeux du monde seront rivés sur ce match crucial. L'équipe de France, souvent appelée 'Les Bleus', est dirigée par le légendaire Didier Deschamps. Parlons un peu de l'influence de Deschamps sur cette équipe. Commentateur 2: Didier Deschamps a guidé Les Bleus vers de nombreux succès, remportant notamment la Coupe du Monde en 2018. Sa stratégie, son leadership et son expérience sont inestimables. On s'attend à ce qu'il orchestre une performance exceptionnelle à l'Euro 2024. Animateur: Et bien sûr, parlons de la star incontestée de l'équipe de France, Kylian Mbappé. Sa vitesse, sa technique et son instinct de buteur en font l'un des joueurs les plus excitants du monde. Qu'attendons-nous de lui dans ce match? Commentateur 1: Mbappé est une véritable force sur le terrain. Sa capacité à changer le cours d'un match en un instant est incroyable. Les supporters des Bleus espèrent qu'il brillera également lors du match contre l'Allemagne. Commentateur 2: Parlons maintenant de l'adversaire redoutable, l'Allemagne. Le football allemand est toujours synonyme de compétitivité et d'intensité. Ce sera un défi de taille pour Les Bleus. Animateur: Absolument, et c'est ce qui rend ces rencontres si passionnantes. Les affrontements entre la France et l'Allemagne ont toujours été mémorables. Nous sommes impatients de voir comment ce match de poule se déroulera à l'Euro 2024. Commentateur 1: En résumé, nous avons un cocktail explosif de talent, de stratégie et d'histoire dans ce match. Restez à l'écoute pour notre prochain épisode où nous analyserons les moments forts de cette rencontre tant attendue. Merci de nous avoir rejoints aujourd'hui ! Animateur: Merci à tous nos auditeurs. Restez connectés pour plus de couverture exclusive de l'Euro 2024 sur notre podcast. À la prochaine !\"\n"
   ]
  },
  {
   "cell_type": "code",
   "execution_count": 16,
   "metadata": {},
   "outputs": [],
   "source": [
    "file = open('../data/text/podcast.pkl', 'wb')\n",
    "pickle.dump(data, file)\n",
    "file.close()"
   ]
  },
  {
   "cell_type": "code",
   "execution_count": null,
   "metadata": {},
   "outputs": [],
   "source": []
  }
 ],
 "metadata": {
  "kernelspec": {
   "display_name": "3.9",
   "language": "python",
   "name": "python3"
  },
  "language_info": {
   "codemirror_mode": {
    "name": "ipython",
    "version": 3
   },
   "file_extension": ".py",
   "mimetype": "text/x-python",
   "name": "python",
   "nbconvert_exporter": "python",
   "pygments_lexer": "ipython3",
   "version": "3.9.16"
  },
  "orig_nbformat": 4
 },
 "nbformat": 4,
 "nbformat_minor": 2
}
